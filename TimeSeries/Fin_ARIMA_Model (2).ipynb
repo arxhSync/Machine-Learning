{
 "cells": [
  {
   "cell_type": "markdown",
   "metadata": {},
   "source": [
    "# Time Series"
   ]
  },
  {
   "cell_type": "markdown",
   "metadata": {},
   "source": [
    "# Introduction to Time series\n",
    "\n",
    "* A time series is a sequence taken at successive equally spaced points in time. Thus it is a sequence of discrete-time data. \n",
    "\n",
    "* A time series is a sequence of numerical data points in successive order.\n",
    "\n",
    "* A time series tracks the movement of the chosen data points, over a specified period of time with data points recorded at regular intervals. \n",
    "\n",
    "* There is no minimum or maximum amount of time that must be included\n",
    "\n",
    "eg - Economic Forecasting , Sales Forecasting , Budgetary Analysis , Stock Market Analysis , Yield Projections , Census Analysis"
   ]
  },
  {
   "cell_type": "markdown",
   "metadata": {},
   "source": [
    "# Time Series Forecasting\n",
    "\n",
    "* Time series forecasting is the use of a model to predict future values based on previously observed values. Most often, this relates to trend analysis, cyclical fluctuation analysis and issues of seasonality.\n",
    "\n"
   ]
  },
  {
   "cell_type": "markdown",
   "metadata": {},
   "source": [
    "# Components of Time Series\n",
    "* Trend\n",
    "\n",
    "* Seasonality\n",
    "\n",
    "* Irregularity\n",
    "\n",
    "* Cyclic"
   ]
  },
  {
   "cell_type": "markdown",
   "metadata": {},
   "source": [
    "## Trend\n",
    "* A movement relatively higher or lower values over a long period of time,when the series analysis  show a pattern that is upward or downward we call it upterend and downterend respectively.\n",
    "\n",
    "* If there is no Trend we call it horizontal trend or stationary trend\n",
    "\n",
    "* Trend is something that happens for time and then disappears."
   ]
  },
  {
   "cell_type": "markdown",
   "metadata": {},
   "source": [
    "## Seasonality\n",
    "Seasonality is a characteristic of a time series in which the data experiences regular and predictable changes that recur every calendar year. Any predictable fluctuation or pattern that recurs or repeats over a one-year period is said to be seasonal.\n",
    "\n",
    "\n",
    "Seasonal effects are different from cyclical effects, as seasonal cycles are observed within one calendar year, while cyclical effects, such as boosted sales due to low unemployment rates, can span time periods shorter or longer than one calendar year."
   ]
  },
  {
   "cell_type": "markdown",
   "metadata": {},
   "source": [
    "## Irregularity\n",
    "* It is also called noise or residual\n",
    "\n",
    "* These are unpredictabe in nature or unsystematic , they happen for short duration and are non repeating.\n",
    "\n",
    "eg- buying of medicine due to flood goes up , but when flood goes ,the sales of medicines come down , in this we don't know how much sale is going to happen."
   ]
  },
  {
   "cell_type": "markdown",
   "metadata": {},
   "source": [
    "## Cyclic\n",
    "cycles are observed within one calendar year, while cyclical effects, such as boosted sales due to low unemployment rates, can span time periods shorter or longer than one calendar year.\n"
   ]
  },
  {
   "cell_type": "markdown",
   "metadata": {},
   "source": [
    "### Time series can not be used \n",
    "* when the values are constant. ef - sale of coffee is same every day for every month.\n",
    "\n",
    "* values are in form of functions - sin(x) or cos(x) , we can just get the values by putting them in function."
   ]
  },
  {
   "cell_type": "markdown",
   "metadata": {},
   "source": [
    "## Stationarity \n",
    "For applying any kind of model on time series data . The data should be stationary.\n",
    "\n",
    "For data to be stationary -\n",
    "\n",
    "* It should have a constant mean according to time.\n",
    "\n",
    "* It should have constan variance i.e variance should be equal at equal intervals of time.\n"
   ]
  },
  {
   "cell_type": "markdown",
   "metadata": {},
   "source": [
    "**Time Series analysis have 4 phases:**\n",
    "\n",
    "* Load data\n",
    "\n",
    "* check stationarity\n",
    "\n",
    "* Make series stationary\n",
    "\n",
    "* Buid model"
   ]
  },
  {
   "cell_type": "markdown",
   "metadata": {},
   "source": [
    "## in Anaconda Prompt ------   pip install import_ipynb\n",
    "\n",
    "\n",
    "- This will allow to import other ipynb file"
   ]
  },
  {
   "cell_type": "code",
   "execution_count": 3,
   "metadata": {},
   "outputs": [
    {
     "name": "stdout",
     "output_type": "stream",
     "text": [
      "Collecting import_ipynb\n",
      "  Downloading import-ipynb-0.1.3.tar.gz (4.0 kB)\n",
      "Building wheels for collected packages: import-ipynb\n",
      "  Building wheel for import-ipynb (setup.py): started\n",
      "  Building wheel for import-ipynb (setup.py): finished with status 'done'\n",
      "  Created wheel for import-ipynb: filename=import_ipynb-0.1.3-py3-none-any.whl size=2979 sha256=2622ffb0a66cc7a0a38e00afd43fcf54667ce669d30e8a7e6553d7ad85ef9dd5\n",
      "  Stored in directory: c:\\users\\raima\\appdata\\local\\pip\\cache\\wheels\\06\\7e\\ad\\1cb03e935234186825cefc7e2c8f3451b4f654b5bc72232a7b\n",
      "Successfully built import-ipynb\n",
      "Installing collected packages: import-ipynb\n",
      "Successfully installed import-ipynb-0.1.3\n"
     ]
    }
   ],
   "source": [
    "!pip install import_ipynb"
   ]
  },
  {
   "cell_type": "code",
   "execution_count": 14,
   "metadata": {},
   "outputs": [],
   "source": [
    "import import_ipynb\n",
    "import Module_making\n"
   ]
  },
  {
   "cell_type": "code",
   "execution_count": 7,
   "metadata": {},
   "outputs": [],
   "source": [
    "import pandas as pd          \n",
    "import numpy as np          # For mathematical calculations \n",
    "import matplotlib.pyplot as plt  # For plotting graphs    \n",
    "import warnings\n",
    "warnings.filterwarnings(\"ignore\")\n",
    "\n",
    "%matplotlib inline"
   ]
  },
  {
   "cell_type": "code",
   "execution_count": 9,
   "metadata": {},
   "outputs": [
    {
     "name": "stdout",
     "output_type": "stream",
     "text": [
      "<class 'pandas.core.frame.DataFrame'>\n",
      "RangeIndex: 144 entries, 0 to 143\n",
      "Data columns (total 2 columns):\n",
      " #   Column      Non-Null Count  Dtype \n",
      "---  ------      --------------  ----- \n",
      " 0   TravelDate  144 non-null    object\n",
      " 1   Passengers  144 non-null    int64 \n",
      "dtypes: int64(1), object(1)\n",
      "memory usage: 2.4+ KB\n",
      "None\n"
     ]
    },
    {
     "data": {
      "text/html": [
       "<div>\n",
       "<style scoped>\n",
       "    .dataframe tbody tr th:only-of-type {\n",
       "        vertical-align: middle;\n",
       "    }\n",
       "\n",
       "    .dataframe tbody tr th {\n",
       "        vertical-align: top;\n",
       "    }\n",
       "\n",
       "    .dataframe thead th {\n",
       "        text-align: right;\n",
       "    }\n",
       "</style>\n",
       "<table border=\"1\" class=\"dataframe\">\n",
       "  <thead>\n",
       "    <tr style=\"text-align: right;\">\n",
       "      <th></th>\n",
       "      <th>TravelDate</th>\n",
       "      <th>Passengers</th>\n",
       "    </tr>\n",
       "  </thead>\n",
       "  <tbody>\n",
       "    <tr>\n",
       "      <th>0</th>\n",
       "      <td>01-01-1949</td>\n",
       "      <td>112</td>\n",
       "    </tr>\n",
       "    <tr>\n",
       "      <th>1</th>\n",
       "      <td>02-01-1949</td>\n",
       "      <td>118</td>\n",
       "    </tr>\n",
       "    <tr>\n",
       "      <th>2</th>\n",
       "      <td>03-01-1949</td>\n",
       "      <td>132</td>\n",
       "    </tr>\n",
       "    <tr>\n",
       "      <th>3</th>\n",
       "      <td>04-01-1949</td>\n",
       "      <td>129</td>\n",
       "    </tr>\n",
       "    <tr>\n",
       "      <th>4</th>\n",
       "      <td>05-01-1949</td>\n",
       "      <td>121</td>\n",
       "    </tr>\n",
       "  </tbody>\n",
       "</table>\n",
       "</div>"
      ],
      "text/plain": [
       "   TravelDate  Passengers\n",
       "0  01-01-1949         112\n",
       "1  02-01-1949         118\n",
       "2  03-01-1949         132\n",
       "3  04-01-1949         129\n",
       "4  05-01-1949         121"
      ]
     },
     "execution_count": 9,
     "metadata": {},
     "output_type": "execute_result"
    }
   ],
   "source": [
    "df = pd.read_csv(r'D:\\AirPassengers.csv')\n",
    "print(df.info())\n",
    "df.head()"
   ]
  },
  {
   "cell_type": "code",
   "execution_count": 10,
   "metadata": {},
   "outputs": [
    {
     "name": "stdout",
     "output_type": "stream",
     "text": [
      "<class 'pandas.core.frame.DataFrame'>\n",
      "RangeIndex: 144 entries, 0 to 143\n",
      "Data columns (total 2 columns):\n",
      " #   Column      Non-Null Count  Dtype         \n",
      "---  ------      --------------  -----         \n",
      " 0   TravelDate  144 non-null    datetime64[ns]\n",
      " 1   Passengers  144 non-null    int64         \n",
      "dtypes: datetime64[ns](1), int64(1)\n",
      "memory usage: 2.4 KB\n",
      "None\n"
     ]
    },
    {
     "data": {
      "text/html": [
       "<div>\n",
       "<style scoped>\n",
       "    .dataframe tbody tr th:only-of-type {\n",
       "        vertical-align: middle;\n",
       "    }\n",
       "\n",
       "    .dataframe tbody tr th {\n",
       "        vertical-align: top;\n",
       "    }\n",
       "\n",
       "    .dataframe thead th {\n",
       "        text-align: right;\n",
       "    }\n",
       "</style>\n",
       "<table border=\"1\" class=\"dataframe\">\n",
       "  <thead>\n",
       "    <tr style=\"text-align: right;\">\n",
       "      <th></th>\n",
       "      <th>Passengers</th>\n",
       "    </tr>\n",
       "    <tr>\n",
       "      <th>TravelDate</th>\n",
       "      <th></th>\n",
       "    </tr>\n",
       "  </thead>\n",
       "  <tbody>\n",
       "    <tr>\n",
       "      <th>1949-01-01</th>\n",
       "      <td>112</td>\n",
       "    </tr>\n",
       "    <tr>\n",
       "      <th>1949-02-01</th>\n",
       "      <td>118</td>\n",
       "    </tr>\n",
       "    <tr>\n",
       "      <th>1949-03-01</th>\n",
       "      <td>132</td>\n",
       "    </tr>\n",
       "    <tr>\n",
       "      <th>1949-04-01</th>\n",
       "      <td>129</td>\n",
       "    </tr>\n",
       "    <tr>\n",
       "      <th>1949-05-01</th>\n",
       "      <td>121</td>\n",
       "    </tr>\n",
       "  </tbody>\n",
       "</table>\n",
       "</div>"
      ],
      "text/plain": [
       "            Passengers\n",
       "TravelDate            \n",
       "1949-01-01         112\n",
       "1949-02-01         118\n",
       "1949-03-01         132\n",
       "1949-04-01         129\n",
       "1949-05-01         121"
      ]
     },
     "execution_count": 10,
     "metadata": {},
     "output_type": "execute_result"
    }
   ],
   "source": [
    "df['TravelDate'] = pd.to_datetime(df['TravelDate'])\n",
    "\n",
    "print(df.info())\n",
    "\n",
    "indexed_df = df.set_index('TravelDate')\n",
    "indexed_df.head()"
   ]
  },
  {
   "cell_type": "markdown",
   "metadata": {},
   "source": [
    "### To check stationarity we have 2 popular tests - \n",
    "* **Rolling statistics** - Here we plot the moving average or moving variance and see if it varies with time.\n",
    "\n",
    "\n",
    "* **Augumented Dikley Fuler Test (ADF Test)** - IT HAS A NULL HYPOTHESIS - That the time series is not stationary  , the result comparises of Test statistic and some critical values for different confidence level.\n",
    "\n",
    "p value should be less than 0.5\n",
    "\n",
    "if test statistic < critical value , we can reject the null hypothesis and say that the series is stationary."
   ]
  },
  {
   "cell_type": "markdown",
   "metadata": {},
   "source": [
    "**Using Another IPYNB file as a Module here and using Function TS defined in that module to check stationarity**"
   ]
  },
  {
   "cell_type": "code",
   "execution_count": 11,
   "metadata": {},
   "outputs": [],
   "source": [
    "# from statsmodels.tsa.stattools import adfuller\n",
    "# dftest = adfuller(indexed_df)\n",
    "#     \n",
    "# print(dftest)\n",
    "# print('\\n SERIES OUTPUT')\n",
    "# dfoutput = pd.Series(dftest[0:4], index = ['Test Statistic' , 'p-value' , 'lags-used', 'no. of observations used'])\n",
    "# print(dfoutput)\n",
    "# print('\\n DICTIONARY OUTPUT')\n",
    "# for key,value in dftest[4].items():\n",
    "#         print('\\n critical value',key,'=',value)\n"
   ]
  },
  {
   "cell_type": "code",
   "execution_count": 15,
   "metadata": {},
   "outputs": [
    {
     "name": "stdout",
     "output_type": "stream",
     "text": [
      "Test Statistic                0.815369\n",
      "p-value                       0.991880\n",
      "lags-used                    13.000000\n",
      "no. of observations used    130.000000\n",
      "dtype: float64\n",
      "\n",
      " critical value 1% = -3.4816817173418295\n",
      "\n",
      " critical value 5% = -2.8840418343195267\n",
      "\n",
      " critical value 10% = -2.578770059171598\n"
     ]
    },
    {
     "data": {
      "text/plain": [
       "'p > 0.05 - Accept the Null Hypothesis '"
      ]
     },
     "execution_count": 15,
     "metadata": {},
     "output_type": "execute_result"
    },
    {
     "data": {
      "image/png": "[encoded data removed]",
      "text/plain": [
       "<Figure size 720x360 with 1 Axes>"
      ]
     },
     "metadata": {
      "needs_background": "light"
     },
     "output_type": "display_data"
    }
   ],
   "source": [
    "Module_making.ts(indexed_df)\n",
    "\n",
    "''' P Value < 0.05 '''\n",
    "# so we Reject the Null Hypothesis, thus Time Series is Stationary\n",
    "'''p > 0.05 - Accept the Null Hypothesis '''"
   ]
  },
  {
   "cell_type": "markdown",
   "metadata": {},
   "source": [
    "## Making Time Series Stationary\n",
    "There are 2 major reasons behind non-stationaruty of a TS:\n",
    "\n",
    "1. __Trend__ – varying mean over time. For eg, in this case we saw that on average, the number of passengers was growing over time.\n",
    "2. __Seasonality__ – variations at specific time-frames. eg people might have a tendency to buy cars in a particular month because of pay increment or festivals."
   ]
  },
  {
   "cell_type": "markdown",
   "metadata": {},
   "source": [
    "### Transformations\n",
    "- These can be taking a LOG or DIFFERENCE the data"
   ]
  },
  {
   "cell_type": "markdown",
   "metadata": {},
   "source": [
    "## Taking LOG of these values"
   ]
  },
  {
   "cell_type": "code",
   "execution_count": 16,
   "metadata": {},
   "outputs": [
    {
     "data": {
      "text/html": [
       "<div>\n",
       "<style scoped>\n",
       "    .dataframe tbody tr th:only-of-type {\n",
       "        vertical-align: middle;\n",
       "    }\n",
       "\n",
       "    .dataframe tbody tr th {\n",
       "        vertical-align: top;\n",
       "    }\n",
       "\n",
       "    .dataframe thead th {\n",
       "        text-align: right;\n",
       "    }\n",
       "</style>\n",
       "<table border=\"1\" class=\"dataframe\">\n",
       "  <thead>\n",
       "    <tr style=\"text-align: right;\">\n",
       "      <th></th>\n",
       "      <th>Passengers</th>\n",
       "    </tr>\n",
       "    <tr>\n",
       "      <th>TravelDate</th>\n",
       "      <th></th>\n",
       "    </tr>\n",
       "  </thead>\n",
       "  <tbody>\n",
       "    <tr>\n",
       "      <th>1949-01-01</th>\n",
       "      <td>112</td>\n",
       "    </tr>\n",
       "    <tr>\n",
       "      <th>1949-02-01</th>\n",
       "      <td>118</td>\n",
       "    </tr>\n",
       "    <tr>\n",
       "      <th>1949-03-01</th>\n",
       "      <td>132</td>\n",
       "    </tr>\n",
       "    <tr>\n",
       "      <th>1949-04-01</th>\n",
       "      <td>129</td>\n",
       "    </tr>\n",
       "    <tr>\n",
       "      <th>1949-05-01</th>\n",
       "      <td>121</td>\n",
       "    </tr>\n",
       "  </tbody>\n",
       "</table>\n",
       "</div>"
      ],
      "text/plain": [
       "            Passengers\n",
       "TravelDate            \n",
       "1949-01-01         112\n",
       "1949-02-01         118\n",
       "1949-03-01         132\n",
       "1949-04-01         129\n",
       "1949-05-01         121"
      ]
     },
     "execution_count": 16,
     "metadata": {},
     "output_type": "execute_result"
    }
   ],
   "source": [
    "indexed_df.head()"
   ]
  },
  {
   "cell_type": "code",
   "execution_count": 17,
   "metadata": {},
   "outputs": [
    {
     "name": "stdout",
     "output_type": "stream",
     "text": [
      "            Passengers\n",
      "TravelDate            \n",
      "1949-01-01    4.718499\n",
      "1949-02-01    4.770685\n",
      "1949-03-01    4.882802\n",
      "1949-04-01    4.859812\n",
      "1949-05-01    4.795791\n"
     ]
    },
    {
     "data": {
      "image/png": "[encoded data removed]",
      "text/plain": [
       "<Figure size 720x360 with 1 Axes>"
      ]
     },
     "metadata": {
      "needs_background": "light"
     },
     "output_type": "display_data"
    }
   ],
   "source": [
    "# estimate trend , we take lOG of the original data , it changes the values on y\n",
    "fig = plt.figure(figsize=(10,5))\n",
    "\n",
    "indexed_df_log = np.log(indexed_df)\n",
    "\n",
    "plt.plot(indexed_df_log);\n",
    "\n",
    "print(indexed_df_log.head())\n"
   ]
  },
  {
   "cell_type": "markdown",
   "metadata": {},
   "source": [
    "## Checking Stationarity"
   ]
  },
  {
   "cell_type": "code",
   "execution_count": 18,
   "metadata": {},
   "outputs": [
    {
     "name": "stdout",
     "output_type": "stream",
     "text": [
      "Test Statistic               -1.717017\n",
      "p-value                       0.422367\n",
      "lags-used                    13.000000\n",
      "no. of observations used    130.000000\n",
      "dtype: float64\n",
      "\n",
      " critical value 1% = -3.4816817173418295\n",
      "\n",
      " critical value 5% = -2.8840418343195267\n",
      "\n",
      " critical value 10% = -2.578770059171598\n"
     ]
    },
    {
     "data": {
      "text/plain": [
       "'if p < 0.05 - stationarity achieved'"
      ]
     },
     "execution_count": 18,
     "metadata": {},
     "output_type": "execute_result"
    },
    {
     "data": {
      "image/png": "[encoded data removed]",
      "text/plain": [
       "<Figure size 720x360 with 1 Axes>"
      ]
     },
     "metadata": {
      "needs_background": "light"
     },
     "output_type": "display_data"
    }
   ],
   "source": [
    "Module_making.ts(indexed_df_log) \n",
    "\n",
    "'''if p < 0.05 - stationarity achieved'''"
   ]
  },
  {
   "cell_type": "markdown",
   "metadata": {},
   "source": [
    "## Differencing - 2nd method to remove stationarity\n",
    "\n",
    "#### .shift() = Shifts index by desired number of periods with an optional time freq.\n",
    "\n",
    "By it we can see the percentage change or change in number of passengers in a month.\n",
    "\n",
    "The following command shifts the passengers forward by 1 month.\n",
    "- Differencing is performed by subtracting the previous observation from the current observation."
   ]
  },
  {
   "cell_type": "code",
   "execution_count": 19,
   "metadata": {},
   "outputs": [
    {
     "data": {
      "text/html": [
       "<div>\n",
       "<style scoped>\n",
       "    .dataframe tbody tr th:only-of-type {\n",
       "        vertical-align: middle;\n",
       "    }\n",
       "\n",
       "    .dataframe tbody tr th {\n",
       "        vertical-align: top;\n",
       "    }\n",
       "\n",
       "    .dataframe thead th {\n",
       "        text-align: right;\n",
       "    }\n",
       "</style>\n",
       "<table border=\"1\" class=\"dataframe\">\n",
       "  <thead>\n",
       "    <tr style=\"text-align: right;\">\n",
       "      <th></th>\n",
       "      <th>Passengers</th>\n",
       "    </tr>\n",
       "    <tr>\n",
       "      <th>TravelDate</th>\n",
       "      <th></th>\n",
       "    </tr>\n",
       "  </thead>\n",
       "  <tbody>\n",
       "    <tr>\n",
       "      <th>1949-01-01</th>\n",
       "      <td>112</td>\n",
       "    </tr>\n",
       "    <tr>\n",
       "      <th>1949-02-01</th>\n",
       "      <td>118</td>\n",
       "    </tr>\n",
       "    <tr>\n",
       "      <th>1949-03-01</th>\n",
       "      <td>132</td>\n",
       "    </tr>\n",
       "    <tr>\n",
       "      <th>1949-04-01</th>\n",
       "      <td>129</td>\n",
       "    </tr>\n",
       "    <tr>\n",
       "      <th>1949-05-01</th>\n",
       "      <td>121</td>\n",
       "    </tr>\n",
       "  </tbody>\n",
       "</table>\n",
       "</div>"
      ],
      "text/plain": [
       "            Passengers\n",
       "TravelDate            \n",
       "1949-01-01         112\n",
       "1949-02-01         118\n",
       "1949-03-01         132\n",
       "1949-04-01         129\n",
       "1949-05-01         121"
      ]
     },
     "execution_count": 19,
     "metadata": {},
     "output_type": "execute_result"
    }
   ],
   "source": [
    "indexed_df.head()"
   ]
  },
  {
   "cell_type": "code",
   "execution_count": 20,
   "metadata": {},
   "outputs": [
    {
     "data": {
      "text/html": [
       "<div>\n",
       "<style scoped>\n",
       "    .dataframe tbody tr th:only-of-type {\n",
       "        vertical-align: middle;\n",
       "    }\n",
       "\n",
       "    .dataframe tbody tr th {\n",
       "        vertical-align: top;\n",
       "    }\n",
       "\n",
       "    .dataframe thead th {\n",
       "        text-align: right;\n",
       "    }\n",
       "</style>\n",
       "<table border=\"1\" class=\"dataframe\">\n",
       "  <thead>\n",
       "    <tr style=\"text-align: right;\">\n",
       "      <th></th>\n",
       "      <th>Passengers</th>\n",
       "    </tr>\n",
       "    <tr>\n",
       "      <th>TravelDate</th>\n",
       "      <th></th>\n",
       "    </tr>\n",
       "  </thead>\n",
       "  <tbody>\n",
       "    <tr>\n",
       "      <th>1949-01-01</th>\n",
       "      <td>NaN</td>\n",
       "    </tr>\n",
       "    <tr>\n",
       "      <th>1949-02-01</th>\n",
       "      <td>NaN</td>\n",
       "    </tr>\n",
       "    <tr>\n",
       "      <th>1949-03-01</th>\n",
       "      <td>112.0</td>\n",
       "    </tr>\n",
       "    <tr>\n",
       "      <th>1949-04-01</th>\n",
       "      <td>118.0</td>\n",
       "    </tr>\n",
       "    <tr>\n",
       "      <th>1949-05-01</th>\n",
       "      <td>132.0</td>\n",
       "    </tr>\n",
       "  </tbody>\n",
       "</table>\n",
       "</div>"
      ],
      "text/plain": [
       "            Passengers\n",
       "TravelDate            \n",
       "1949-01-01         NaN\n",
       "1949-02-01         NaN\n",
       "1949-03-01       112.0\n",
       "1949-04-01       118.0\n",
       "1949-05-01       132.0"
      ]
     },
     "execution_count": 20,
     "metadata": {},
     "output_type": "execute_result"
    }
   ],
   "source": [
    "indexed_df.shift(periods = 2).head()"
   ]
  },
  {
   "cell_type": "code",
   "execution_count": 21,
   "metadata": {},
   "outputs": [
    {
     "name": "stdout",
     "output_type": "stream",
     "text": [
      "            Passengers\n",
      "TravelDate            \n",
      "1949-01-01    4.718499\n",
      "1949-02-01    4.770685\n",
      "1949-03-01    4.882802\n",
      "1949-04-01    4.859812\n",
      "1949-05-01    4.795791\n"
     ]
    },
    {
     "data": {
      "text/html": [
       "<div>\n",
       "<style scoped>\n",
       "    .dataframe tbody tr th:only-of-type {\n",
       "        vertical-align: middle;\n",
       "    }\n",
       "\n",
       "    .dataframe tbody tr th {\n",
       "        vertical-align: top;\n",
       "    }\n",
       "\n",
       "    .dataframe thead th {\n",
       "        text-align: right;\n",
       "    }\n",
       "</style>\n",
       "<table border=\"1\" class=\"dataframe\">\n",
       "  <thead>\n",
       "    <tr style=\"text-align: right;\">\n",
       "      <th></th>\n",
       "      <th>Passengers</th>\n",
       "    </tr>\n",
       "    <tr>\n",
       "      <th>TravelDate</th>\n",
       "      <th></th>\n",
       "    </tr>\n",
       "  </thead>\n",
       "  <tbody>\n",
       "    <tr>\n",
       "      <th>1949-01-01</th>\n",
       "      <td>NaN</td>\n",
       "    </tr>\n",
       "    <tr>\n",
       "      <th>1949-02-01</th>\n",
       "      <td>NaN</td>\n",
       "    </tr>\n",
       "    <tr>\n",
       "      <th>1949-03-01</th>\n",
       "      <td>4.718499</td>\n",
       "    </tr>\n",
       "    <tr>\n",
       "      <th>1949-04-01</th>\n",
       "      <td>4.770685</td>\n",
       "    </tr>\n",
       "    <tr>\n",
       "      <th>1949-05-01</th>\n",
       "      <td>4.882802</td>\n",
       "    </tr>\n",
       "  </tbody>\n",
       "</table>\n",
       "</div>"
      ],
      "text/plain": [
       "            Passengers\n",
       "TravelDate            \n",
       "1949-01-01         NaN\n",
       "1949-02-01         NaN\n",
       "1949-03-01    4.718499\n",
       "1949-04-01    4.770685\n",
       "1949-05-01    4.882802"
      ]
     },
     "execution_count": 21,
     "metadata": {},
     "output_type": "execute_result"
    }
   ],
   "source": [
    "print(indexed_df_log.head())\n",
    "\n",
    "indexed_df_log.shift(periods = 2).head()"
   ]
  },
  {
   "cell_type": "code",
   "execution_count": 22,
   "metadata": {},
   "outputs": [
    {
     "name": "stdout",
     "output_type": "stream",
     "text": [
      "            Passengers\n",
      "TravelDate            \n",
      "1949-01-01         NaN\n",
      "1949-02-01         NaN\n",
      "1949-03-01        20.0\n",
      "1949-04-01        11.0\n",
      "1949-05-01       -11.0\n"
     ]
    }
   ],
   "source": [
    "# indexed_df_shiffting = indexed_df - indexed_df.shift(periods = 1);\n",
    "# \n",
    "indexed_df_shiffting = indexed_df - indexed_df.shift(periods = 2)\n",
    "\n",
    "print(indexed_df_shiffting.head())\n",
    "indexed_df_shiffting.dropna(inplace = True)\n"
   ]
  },
  {
   "cell_type": "code",
   "execution_count": 23,
   "metadata": {},
   "outputs": [
    {
     "name": "stdout",
     "output_type": "stream",
     "text": [
      "Test Statistic               -2.961695\n",
      "p-value                       0.038630\n",
      "lags-used                    11.000000\n",
      "no. of observations used    130.000000\n",
      "dtype: float64\n",
      "\n",
      " critical value 1% = -3.4816817173418295\n",
      "\n",
      " critical value 5% = -2.8840418343195267\n",
      "\n",
      " critical value 10% = -2.578770059171598\n"
     ]
    },
    {
     "data": {
      "image/png": "[encoded data removed]",
      "text/plain": [
       "<Figure size 720x360 with 1 Axes>"
      ]
     },
     "metadata": {
      "needs_background": "light"
     },
     "output_type": "display_data"
    }
   ],
   "source": [
    "# Checking Stationarity\n",
    "Module_making.ts(indexed_df_shiffting)"
   ]
  },
  {
   "cell_type": "code",
   "execution_count": null,
   "metadata": {},
   "outputs": [],
   "source": []
  },
  {
   "cell_type": "markdown",
   "metadata": {},
   "source": [
    "## ACF & PACF Graphs"
   ]
  },
  {
   "cell_type": "markdown",
   "metadata": {},
   "source": [
    "- ACF describes the autocorrelation between an observation and another observation at a prior time step that includes direct and indirect dependence information.\n",
    "- A lag 1 autocorrelation (i.e., k = 1 in the above) is the correlation between values that are one time period apart. More generally, a lag k autocorrelation is the correlation between values that are k time periods apart.\n",
    "- The ACF is a way to measure the linear relationship between an observation at time t and the observations at previous times\n",
    "- ACF Graph is used to check the Value to be taken for MA model\n",
    "- The PACF is most useful for identifying the order of an autoregressive model. \n",
    "- PACF graph is used to check the Value to be taken for AR model"
   ]
  },
  {
   "cell_type": "code",
   "execution_count": 24,
   "metadata": {},
   "outputs": [],
   "source": [
    "# PACF - AR - AR Model - only value for p\n",
    "# ACF -  MA - MA Model - only value for q\n",
    "\n",
    "# ARIMA - p,d,q"
   ]
  },
  {
   "cell_type": "markdown",
   "metadata": {},
   "source": [
    "## ARIMA\n",
    "* ARIMA models (which include ARMA, AR and MA models) are a general class of models to forecast stationary time series. ARIMA models are made of three parts:\n",
    "\n",
    "\n",
    "    - A weighted sum of lagged values of the series (Auto-regressive (AR) part) - p\n",
    "    - A weighted sum of lagged forecasted errors of the series (Moving-average (MA) part) -q\n",
    "    - A difference of the time series (Integrated (I) part)-i\n",
    "    \n",
    "    \n",
    "* An ARIMA model is often noted ARIMA(p, d, q) where p represents the order of the AR part, d the order of differencing (“I” part), and q the order of the MA term."
   ]
  },
  {
   "cell_type": "markdown",
   "metadata": {},
   "source": [
    "## Feeding Data without taking log and Differencing thus without making it Stationary"
   ]
  },
  {
   "cell_type": "code",
   "execution_count": 25,
   "metadata": {},
   "outputs": [
    {
     "data": {
      "text/plain": [
       "144"
      ]
     },
     "execution_count": 25,
     "metadata": {},
     "output_type": "execute_result"
    }
   ],
   "source": [
    "len(indexed_df)\n",
    "# indexed_df.head()"
   ]
  },
  {
   "cell_type": "code",
   "execution_count": 26,
   "metadata": {},
   "outputs": [
    {
     "data": {
      "image/png": "[encoded data removed]",
      "text/plain": [
       "<Figure size 432x288 with 1 Axes>"
      ]
     },
     "metadata": {
      "needs_background": "light"
     },
     "output_type": "display_data"
    },
    {
     "data": {
      "image/png": "[encoded data removed]",
      "text/plain": [
       "<Figure size 432x288 with 1 Axes>"
      ]
     },
     "metadata": {
      "needs_background": "light"
     },
     "output_type": "display_data"
    }
   ],
   "source": [
    "x2 = indexed_df[:130]\n",
    "y2 = indexed_df[130:]\n",
    "\n",
    "Module_making.acf_pacf_plots(x2)\n",
    "\n",
    "# PACF - AR - AR Model - only value for p\n",
    "# ACF -  MA - MA Model - only value for q\n"
   ]
  },
  {
   "cell_type": "code",
   "execution_count": 27,
   "metadata": {},
   "outputs": [
    {
     "data": {
      "text/plain": [
       "Timestamp('1959-11-01 00:00:00')"
      ]
     },
     "execution_count": 27,
     "metadata": {},
     "output_type": "execute_result"
    }
   ],
   "source": [
    "y2.index[0]"
   ]
  },
  {
   "cell_type": "code",
   "execution_count": 28,
   "metadata": {},
   "outputs": [
    {
     "data": {
      "text/plain": [
       "Timestamp('1960-12-01 00:00:00')"
      ]
     },
     "execution_count": 28,
     "metadata": {},
     "output_type": "execute_result"
    }
   ],
   "source": [
    "y2.index[-1]"
   ]
  },
  {
   "cell_type": "code",
   "execution_count": 29,
   "metadata": {},
   "outputs": [
    {
     "data": {
      "text/plain": [
       "<Figure size 720x360 with 0 Axes>"
      ]
     },
     "metadata": {},
     "output_type": "display_data"
    },
    {
     "data": {
      "image/png": "[encoded data removed]",
      "text/plain": [
       "<Figure size 432x288 with 4 Axes>"
      ]
     },
     "metadata": {
      "needs_background": "light"
     },
     "output_type": "display_data"
    }
   ],
   "source": [
    "# Seasonal Decompse\n",
    "from statsmodels.tsa.seasonal import seasonal_decompose\n",
    "fig = plt.figure(figsize=(10,5))\n",
    "decomposition = seasonal_decompose(x2)\n",
    "decomposition.plot()\n",
    "\n",
    "# To Check for Individual Values\n",
    "trend = decomposition.trend\n",
    "seasonal = decomposition.seasonal\n",
    "residual = decomposition.resid"
   ]
  },
  {
   "cell_type": "code",
   "execution_count": 30,
   "metadata": {},
   "outputs": [
    {
     "ename": "ModuleNotFoundError",
     "evalue": "No module named 'pmdarima'",
     "output_type": "error",
     "traceback": [
      "\u001b[1;31m---------------------------------------------------------------------------\u001b[0m",
      "\u001b[1;31mModuleNotFoundError\u001b[0m                       Traceback (most recent call last)",
      "\u001b[1;32m<ipython-input-30-6972e7e9c1e5>\u001b[0m in \u001b[0;36m<module>\u001b[1;34m\u001b[0m\n\u001b[0;32m      1\u001b[0m \u001b[1;31m# Auto ARIMA\u001b[0m\u001b[1;33m\u001b[0m\u001b[1;33m\u001b[0m\u001b[1;33m\u001b[0m\u001b[0m\n\u001b[0;32m      2\u001b[0m \u001b[1;33m\u001b[0m\u001b[0m\n\u001b[1;32m----> 3\u001b[1;33m \u001b[1;32mimport\u001b[0m \u001b[0mpmdarima\u001b[0m \u001b[1;32mas\u001b[0m \u001b[0mpm\u001b[0m\u001b[1;33m\u001b[0m\u001b[1;33m\u001b[0m\u001b[0m\n\u001b[0m\u001b[0;32m      4\u001b[0m \u001b[1;33m\u001b[0m\u001b[0m\n\u001b[0;32m      5\u001b[0m stepwise_model = pm.auto_arima(x2, start_p=1, start_q=1,\n",
      "\u001b[1;31mModuleNotFoundError\u001b[0m: No module named 'pmdarima'"
     ]
    }
   ],
   "source": [
    "# Auto ARIMA\n",
    "\n",
    "import pmdarima as pm\n",
    "\n",
    "stepwise_model = pm.auto_arima(x2, start_p=1, start_q=1,\n",
    "                           max_p=15, max_q=15, m=12)\n",
    "print(stepwise_model)\n",
    "\n",
    "\n",
    "stepwise_model.predict(n_periods=12)"
   ]
  },
  {
   "cell_type": "code",
   "execution_count": 31,
   "metadata": {},
   "outputs": [],
   "source": [
    "# fitting train data\n",
    "from statsmodels.tsa.arima_model import ARIMA\n",
    "\n",
    "# AR model\n",
    "model  = ARIMA(x2, order = (10,1,0))  # (p , d(differenced) , q) values , we can use different values to make model good or worse\n",
    "\n",
    "results_ar_2 = model.fit()\n",
    "\n",
    "pred_2 = results_ar_2.predict(start = y2.index[0], end = y2.index[-1],typ = 'levels')\n",
    "\n",
    "\n",
    "# 10,1,0 - 5.2\n",
    "\n",
    "# using AR = 4 means ARIMA is taking in consideration past 4 days value for AR to predict next value"
   ]
  },
  {
   "cell_type": "code",
   "execution_count": null,
   "metadata": {},
   "outputs": [],
   "source": [
    "df_pred_2 = pd.DataFrame({'Actual': y2.Passengers, 'Predicted':pred_2})\n",
    "\n",
    "fig = plt.figure(figsize=(13,7))\n",
    "\n",
    "plt.plot(df_pred_2.Actual,color = 'red', label = 'orignal')\n",
    "\n",
    "plt.plot(df_pred_2.Predicted,color = 'black',label = 'predicted')\n",
    "\n",
    "plt.plot(x2.Passengers, color = 'yellow', label = 'train')\n",
    "\n",
    "plt.legend();\n",
    "\n",
    "# To check results\n",
    "Module_making.evaluate_forecast(y2.Passengers, pred_2)\n",
    "\n"
   ]
  },
  {
   "cell_type": "code",
   "execution_count": 33,
   "metadata": {},
   "outputs": [
    {
     "data": {
      "text/html": [
       "<div>\n",
       "<style scoped>\n",
       "    .dataframe tbody tr th:only-of-type {\n",
       "        vertical-align: middle;\n",
       "    }\n",
       "\n",
       "    .dataframe tbody tr th {\n",
       "        vertical-align: top;\n",
       "    }\n",
       "\n",
       "    .dataframe thead th {\n",
       "        text-align: right;\n",
       "    }\n",
       "</style>\n",
       "<table border=\"1\" class=\"dataframe\">\n",
       "  <thead>\n",
       "    <tr style=\"text-align: right;\">\n",
       "      <th></th>\n",
       "      <th>Actual</th>\n",
       "      <th>Predicted</th>\n",
       "    </tr>\n",
       "  </thead>\n",
       "  <tbody>\n",
       "    <tr>\n",
       "      <th>1959-11-01</th>\n",
       "      <td>362</td>\n",
       "      <td>342.991133</td>\n",
       "    </tr>\n",
       "    <tr>\n",
       "      <th>1959-12-01</th>\n",
       "      <td>405</td>\n",
       "      <td>370.994972</td>\n",
       "    </tr>\n",
       "    <tr>\n",
       "      <th>1960-01-01</th>\n",
       "      <td>417</td>\n",
       "      <td>374.339551</td>\n",
       "    </tr>\n",
       "    <tr>\n",
       "      <th>1960-02-01</th>\n",
       "      <td>391</td>\n",
       "      <td>385.839590</td>\n",
       "    </tr>\n",
       "    <tr>\n",
       "      <th>1960-03-01</th>\n",
       "      <td>419</td>\n",
       "      <td>428.001460</td>\n",
       "    </tr>\n",
       "    <tr>\n",
       "      <th>1960-04-01</th>\n",
       "      <td>461</td>\n",
       "      <td>409.309128</td>\n",
       "    </tr>\n",
       "    <tr>\n",
       "      <th>1960-05-01</th>\n",
       "      <td>472</td>\n",
       "      <td>452.463842</td>\n",
       "    </tr>\n",
       "    <tr>\n",
       "      <th>1960-06-01</th>\n",
       "      <td>535</td>\n",
       "      <td>498.848004</td>\n",
       "    </tr>\n",
       "    <tr>\n",
       "      <th>1960-07-01</th>\n",
       "      <td>622</td>\n",
       "      <td>581.893825</td>\n",
       "    </tr>\n",
       "    <tr>\n",
       "      <th>1960-08-01</th>\n",
       "      <td>606</td>\n",
       "      <td>576.568847</td>\n",
       "    </tr>\n",
       "    <tr>\n",
       "      <th>1960-09-01</th>\n",
       "      <td>508</td>\n",
       "      <td>506.115573</td>\n",
       "    </tr>\n",
       "    <tr>\n",
       "      <th>1960-10-01</th>\n",
       "      <td>461</td>\n",
       "      <td>445.267775</td>\n",
       "    </tr>\n",
       "    <tr>\n",
       "      <th>1960-11-01</th>\n",
       "      <td>390</td>\n",
       "      <td>378.574074</td>\n",
       "    </tr>\n",
       "    <tr>\n",
       "      <th>1960-12-01</th>\n",
       "      <td>432</td>\n",
       "      <td>403.326080</td>\n",
       "    </tr>\n",
       "  </tbody>\n",
       "</table>\n",
       "</div>"
      ],
      "text/plain": [
       "            Actual   Predicted\n",
       "1959-11-01     362  342.991133\n",
       "1959-12-01     405  370.994972\n",
       "1960-01-01     417  374.339551\n",
       "1960-02-01     391  385.839590\n",
       "1960-03-01     419  428.001460\n",
       "1960-04-01     461  409.309128\n",
       "1960-05-01     472  452.463842\n",
       "1960-06-01     535  498.848004\n",
       "1960-07-01     622  581.893825\n",
       "1960-08-01     606  576.568847\n",
       "1960-09-01     508  506.115573\n",
       "1960-10-01     461  445.267775\n",
       "1960-11-01     390  378.574074\n",
       "1960-12-01     432  403.326080"
      ]
     },
     "execution_count": 33,
     "metadata": {},
     "output_type": "execute_result"
    }
   ],
   "source": [
    "df_pred_2"
   ]
  },
  {
   "cell_type": "markdown",
   "metadata": {},
   "source": [
    "## Feeding Data only Using LOG transformation and not taking Differencing"
   ]
  },
  {
   "cell_type": "code",
   "execution_count": 34,
   "metadata": {},
   "outputs": [
    {
     "data": {
      "image/png": "[encoded data removed]",
      "text/plain": [
       "<Figure size 432x288 with 1 Axes>"
      ]
     },
     "metadata": {
      "needs_background": "light"
     },
     "output_type": "display_data"
    },
    {
     "data": {
      "image/png": "[encoded data removed]",
      "text/plain": [
       "<Figure size 432x288 with 1 Axes>"
      ]
     },
     "metadata": {
      "needs_background": "light"
     },
     "output_type": "display_data"
    }
   ],
   "source": [
    "x1 = indexed_df_log[:130]\n",
    "y1 = indexed_df_log[130:]\n",
    "\n",
    "Module_making.acf_pacf_plots(indexed_df_log)\n",
    "\n",
    "# PACF - AR - AR Model - only value for p\n",
    "# ACF -  MA - MA Model - only value for q"
   ]
  },
  {
   "cell_type": "code",
   "execution_count": null,
   "metadata": {},
   "outputs": [],
   "source": [
    "# fitting train data\n",
    "from statsmodels.tsa.arima_model import ARIMA\n",
    "\n",
    "# AR model\n",
    "model  = ARIMA(x1, order = (12,2,1))  # (p , d(differenced) , q) values , we can use different values to make model good or worse\n",
    "\n",
    "results_ar = model.fit()\n",
    "\n",
    "pred = results_ar.predict(start = y1.index[0], end = y1.index[-1],typ = 'levels')\n"
   ]
  },
  {
   "cell_type": "code",
   "execution_count": 26,
   "metadata": {},
   "outputs": [
    {
     "data": {
      "text/plain": [
       "1959-11-01    358.997543\n",
       "1959-12-01    386.118155\n",
       "1960-01-01    414.834988\n",
       "1960-02-01    396.447915\n",
       "1960-03-01    457.717630\n",
       "1960-04-01    457.996993\n",
       "1960-05-01    480.505676\n",
       "1960-06-01    550.132525\n",
       "1960-07-01    621.318596\n",
       "1960-08-01    639.142051\n",
       "1960-09-01    531.695164\n",
       "1960-10-01    470.019150\n",
       "1960-11-01    417.133788\n",
       "1960-12-01    448.315718\n",
       "Freq: MS, dtype: float64"
      ]
     },
     "execution_count": 26,
     "metadata": {},
     "output_type": "execute_result"
    }
   ],
   "source": [
    "np.exp(pred)"
   ]
  },
  {
   "cell_type": "code",
   "execution_count": null,
   "metadata": {},
   "outputs": [],
   "source": [
    "def evaluate_forecast(y,pred):\n",
    "    \n",
    "    results = pd.DataFrame({'Mean_Absolute_Error' : mean_absolute_error(y, pred)}, index=['Values'])\n",
    "    \n",
    "    results['Mean_Squared_Error'] = mean_squared_error(y, pred)\n",
    "   \n",
    "    results['Mean_Absolute_Percentage_Error'] = np.mean(np.abs((y - pred) / y)) * 100\n",
    "    \n",
    "    results['Root_Mean_Sqared_Error'] = np.sqrt(results['Mean_Squared_Error'])\n",
    "    `\n",
    "    return results"
   ]
  },
  {
   "cell_type": "code",
   "execution_count": null,
   "metadata": {
    "scrolled": true
   },
   "outputs": [],
   "source": [
    "df_pred = pd.DataFrame({'Actual': np.exp(y1.Passengers), 'Predicted':np.exp(pred)})\n",
    "\n",
    "fig = plt.figure(figsize=(13,7))\n",
    "\n",
    "plt.plot(df_pred.Actual,color = 'red', label = 'orignal')\n",
    "\n",
    "plt.plot(df_pred.Predicted,color = 'black',label = 'predicted')\n",
    "\n",
    "plt.plot(np.exp(x1.Passengers), color = 'yellow', label = 'train')\n",
    "\n",
    "plt.legend();\n",
    "\n",
    "# Checking Results\n",
    "evaluate_forecast(np.exp(y1.Passengers),np.exp(pred))\n",
    "\n",
    "# using AR = 4 means ARIMA is taking in consideration past 4 days value for AR to predict next value"
   ]
  },
  {
   "cell_type": "code",
   "execution_count": 28,
   "metadata": {
    "scrolled": true
   },
   "outputs": [
    {
     "name": "stdout",
     "output_type": "stream",
     "text": [
      " # Forecasted Value:  [358.99754309 386.11815502 414.83498819 396.44791541 457.71763019\n",
      " 457.99699257 480.50567568 550.13252483 621.31859632 639.14205149\n",
      " 531.69516409 470.01914994]\n",
      "\n",
      " # Standard Error:  [1.04059048 1.05448418 1.06772648 1.07810365 1.08713517 1.09641976\n",
      " 1.10427717 1.11244811 1.11873745 1.12630407 1.13228649 1.13991402]\n",
      "\n",
      " Confidence Interval:  [[332.06537886 388.11404065]\n",
      " [347.98659566 428.4280817 ]\n",
      " [364.83355961 471.68924812]\n",
      " [342.11546323 459.4090783 ]\n",
      " [388.58246268 539.15307332]\n",
      " [382.3925597  548.5494942 ]\n",
      " [395.60977097 583.61982262]\n",
      " [446.43748315 677.91304785]\n",
      " [498.66499164 774.14056452]\n",
      " [506.23733601 806.93882677]\n",
      " [416.78324917 678.28960995]\n",
      " [363.62044737 607.55109596]]\n"
     ]
    },
    {
     "data": {
      "text/plain": [
       "[<matplotlib.lines.Line2D at 0x2ce370e77f0>]"
      ]
     },
     "execution_count": 28,
     "metadata": {},
     "output_type": "execute_result"
    },
    {
     "data": {
      "image/png": "[encoded data removed]",
      "text/plain": [
       "<Figure size 432x288 with 1 Axes>"
      ]
     },
     "metadata": {
      "needs_background": "light"
     },
     "output_type": "display_data"
    }
   ],
   "source": [
    "forecast = results_ar.forecast(steps = 12)\n",
    "\n",
    "print(' # Forecasted Value: ', np.exp(forecast[0])) # Forecasted Value\n",
    "print('\\n # Standard Error: ',np.exp(forecast[1])) # Standard Error\n",
    "print('\\n Confidence Interval: ', np.exp(forecast[2])) # Confidence Interval\n",
    "\n",
    "plt.plot(np.exp(forecast[0]))"
   ]
  },
  {
   "cell_type": "code",
   "execution_count": 29,
   "metadata": {},
   "outputs": [],
   "source": [
    "# df_pred"
   ]
  },
  {
   "cell_type": "code",
   "execution_count": 30,
   "metadata": {},
   "outputs": [],
   "source": [
    "import pickle\n",
    "\n",
    "clf = KNN()\n",
    "clf_rf= RF()\n",
    "clf_rf.fit()\n",
    "reg = Linear Regressor()\n",
    "\n",
    "\n",
    "# saved the trained model in file with given name\n",
    "pickle_out = open(\"random forest model.pickle\",\"wb\")\n",
    "pickle.dump(clf_rf, pickle_out)\n",
    "pickle_out.close()"
   ]
  },
  {
   "cell_type": "code",
   "execution_count": 31,
   "metadata": {},
   "outputs": [],
   "source": [
    "# loading the pickeled model\n",
    "pickle_in = open(\"random forest model.pickle\",\"rb\")\n",
    "trained_model = pickle.load(pickle_in)"
   ]
  },
  {
   "cell_type": "code",
   "execution_count": 36,
   "metadata": {},
   "outputs": [
    {
     "data": {
      "text/plain": [
       "array([5.88331554, 5.95614342, 6.02788082, 5.98254467, 6.12625247])"
      ]
     },
     "execution_count": 36,
     "metadata": {},
     "output_type": "execute_result"
    }
   ],
   "source": [
    "trained_model.forecast(5)[0]"
   ]
  }
 ],
 "metadata": {
  "kernelspec": {
   "display_name": "Python 3",
   "language": "python",
   "name": "python3"
  },
  "language_info": {
   "codemirror_mode": {
    "name": "ipython",
    "version": 3
   },
   "file_extension": ".py",
   "mimetype": "text/x-python",
   "name": "python",
   "nbconvert_exporter": "python",
   "pygments_lexer": "ipython3",
   "version": "3.8.8"
  }
 },
 "nbformat": 4,
 "nbformat_minor": 2
}
